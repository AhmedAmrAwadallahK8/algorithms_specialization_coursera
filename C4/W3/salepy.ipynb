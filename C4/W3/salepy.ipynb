{
 "cells": [
  {
   "cell_type": "code",
   "execution_count": 18,
   "metadata": {},
   "outputs": [
    {
     "name": "stdout",
     "output_type": "stream",
     "text": [
      "Percent Done:  0.0 %\n",
      "Percent Done:  9.997626676159962 %\n",
      "Percent Done:  19.995253352319924 %\n",
      "Percent Done:  29.992880028479885 %\n",
      "Percent Done:  39.99050670463985 %\n",
      "Percent Done:  49.98813338079981 %\n",
      "Percent Done:  59.98576005695977 %\n",
      "Percent Done:  69.98338673311973 %\n",
      "Percent Done:  79.9810134092797 %\n",
      "Percent Done:  89.97864008543965 %\n",
      "Percent Done:  99.97626676159962 %\n",
      "Final Score:  1203406.5012708856\n"
     ]
    }
   ],
   "source": [
    "import pandas as pd\n",
    "import numpy as np\n",
    "import os\n",
    "\n",
    "city_count = 0\n",
    "tour_dist = 0\n",
    "city_x = []\n",
    "city_y = []\n",
    "\n",
    "def get_city_dist(c1, c2):\n",
    "    x1 = city_x[c1]\n",
    "    y1 = city_y[c1]\n",
    "    x2 = city_x[c2]\n",
    "    y2 = city_y[c2]\n",
    "    return np.sqrt(np.square(x1 - x2) + np.square(y1 - y2))\n",
    "\n",
    "with open(\"data/nn.txt\", 'r') as f:\n",
    "    first = True\n",
    "    for line in f:\n",
    "        if first:\n",
    "            first = False\n",
    "            city_count = int(line)\n",
    "            continue\n",
    "        ind, x, y = line.split(\" \")\n",
    "        city_x.append(float(x))\n",
    "        city_y.append(float(y))\n",
    "\n",
    "unseen_cities = []\n",
    "seen_cities = [0]\n",
    "\n",
    "for i in range(1, city_count):\n",
    "    unseen_cities.append(i)\n",
    "source_city = 0\n",
    "progress = 0\n",
    "report_freq = int(city_count*0.1)\n",
    "while(len(unseen_cities) > 0):\n",
    "    if(progress % report_freq == 0):\n",
    "        print(\"Percent Done: \", progress/city_count*100.0, \"%\")\n",
    "    progress += 1\n",
    "    min_dist = 0\n",
    "    best_targ_city = 0\n",
    "    first_city = True\n",
    "    for targ_city in unseen_cities:\n",
    "        dist = get_city_dist(source_city, targ_city)\n",
    "        if first_city:\n",
    "            first_city = False\n",
    "            min_dist = dist\n",
    "            best_targ_city = targ_city\n",
    "        else:\n",
    "            if dist < min_dist:\n",
    "                min_dist = dist\n",
    "                best_targ_city = targ_city\n",
    "            elif dist == min_dist:\n",
    "                if targ_city < best_targ_city:\n",
    "                    best_targ_city = targ_city\n",
    "    unseen_cities.remove(best_targ_city)\n",
    "    seen_cities.append(best_targ_city)\n",
    "    source_city = best_targ_city\n",
    "    tour_dist += min_dist\n",
    "\n",
    "tour_dist += get_city_dist(source_city, 0)\n",
    "\n",
    "print(\"Final Score: \", tour_dist)\n",
    "\n",
    "\n",
    "\n"
   ]
  },
  {
   "cell_type": "code",
   "execution_count": null,
   "metadata": {},
   "outputs": [],
   "source": []
  }
 ],
 "metadata": {
  "kernelspec": {
   "display_name": "Python 3",
   "language": "python",
   "name": "python3"
  },
  "language_info": {
   "codemirror_mode": {
    "name": "ipython",
    "version": 3
   },
   "file_extension": ".py",
   "mimetype": "text/x-python",
   "name": "python",
   "nbconvert_exporter": "python",
   "pygments_lexer": "ipython3",
   "version": "3.10.4"
  },
  "orig_nbformat": 4,
  "vscode": {
   "interpreter": {
    "hash": "98b4db5b0224a8abf909a9ff66e029249a9748b73d8c180ec1cec1d63ae52332"
   }
  }
 },
 "nbformat": 4,
 "nbformat_minor": 2
}
